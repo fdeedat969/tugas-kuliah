{
 "cells": [
  {
   "cell_type": "markdown",
   "metadata": {},
   "source": [
    "Tugas Konveksi Paksa Aliran Eksternal\n",
    "\n",
    "Nama: Deedat Fatahillah \\\n",
    "NIM : 13320072"
   ]
  },
  {
   "cell_type": "code",
   "execution_count": 70,
   "metadata": {},
   "outputs": [],
   "source": [
    "Tic = 180+ 9    # Temperatur dalam pipa (Celcius) dengan menambahkan 3 digit NIM akhir\n",
    "Tlc = 30 + 2    # Temperatur luar pipa (Celcius) dengan menambahkan 1 digit NIM akhir\n",
    "Ti = Tic + 273  # Temperatur dalam pipa (Kelvin)\n",
    "Tl = Tlc + 273  # Temperatur luar pipa (Kelvin)\n",
    "V = 2           # m/s"
   ]
  },
  {
   "cell_type": "code",
   "execution_count": 71,
   "metadata": {},
   "outputs": [],
   "source": [
    "import CoolProp.CoolProp as cp  # Import CoolProp untuk menghitung properti fluida\n",
    "import numpy as np              # Import numpy \n",
    "import matplotlib.pyplot as plt # Import matplotlib untuk plotting"
   ]
  },
  {
   "cell_type": "markdown",
   "metadata": {},
   "source": [
    "Persamaan-persamaan umum yang digunakan dapat ditulis sebagai berikut:"
   ]
  },
  {
   "cell_type": "code",
   "execution_count": 72,
   "metadata": {},
   "outputs": [],
   "source": [
    "def Re(v, V, D): # Fungsi untuk menghitung angka Reynolds\n",
    "    return (D * V) / v\n",
    "\n",
    "def Nu(Re, Pr): # Fungsi untuk menghitung angka Nusselt\n",
    "    return 0.3 + (0.62 * Re**0.5 * Pr**(1/3))/((1+(0.4/Pr)**(2/3))**0.25) * (1+(Re/282000)**(5/8))**(4/5)\n",
    "\n",
    "def h(Nu, k, D): # Fungsi untuk menghitung nilai konveksi (h)\n",
    "    return Nu * k / D\n",
    "\n",
    "def Rc(r1, r2, k): # Fungsi untuk menghitung Resistansi konduksi\n",
    "    return np.log(r1/r2) / (2 * np.pi * k)\n",
    "\n",
    "def Rh(r1, h): # Fungsi untuk menghitung Resistansi konveksi\n",
    "    return 1 / (2 * np.pi * h * (r1))"
   ]
  },
  {
   "cell_type": "markdown",
   "metadata": {},
   "source": [
    "Hasil perhitungan tanpa menggunakan insulasi"
   ]
  },
  {
   "cell_type": "code",
   "execution_count": 73,
   "metadata": {},
   "outputs": [
    {
     "name": "stdout",
     "output_type": "stream",
     "text": [
      "Temperatur di permukaan pipa:  77.09973565034272 C\n",
      "Kalor yang dilepaskan per panjang:  334.2191040309156 W/m\n"
     ]
    }
   ],
   "source": [
    "wall = 10.31e-3 # ketebalan dinding pipa (m)\n",
    "D2 = 323.8e-3   # diameter pipa (m)\n",
    "D1 = D2-2*wall  # diameter dalam pipa (m)\n",
    "r2 = D1/2       # jari-jari dalam pipa (m)\n",
    "r1 = D2/2       # jari-jari pipa (m)\n",
    "\n",
    "Ts_prev= 0 \n",
    "Ts_new = Tl + 1 # inisialisasi suhu permukaan pipa\n",
    "Q_data = []\n",
    "T_data = []\n",
    "while abs(Ts_new - Ts_prev) > 0.0001:\n",
    "    Tf = (Ts_new + Tl) / 2 \n",
    "    Pr = cp.PropsSI('Prandtl', 'T', Tf, 'P', 101325, 'Air') # Menghitung bilangan Prandtl dengan menggunakan Library CoolProp\n",
    "    mu = cp.PropsSI('V', 'T', Tf, 'P', 101325, 'Air')       # Menghitung viskositas dengan menggunakan Library CoolProp\n",
    "    rho = cp.PropsSI('D', 'T', Tf, 'P', 101325, 'Air')      # Menghitung densitas dengan menggunakan Library CoolProp\n",
    "    k = cp.PropsSI('L', 'T', Tf, 'P', 101325, 'Air')        # Menghitung koefisien konduktivitas dengan menggunakan Library CoolProp\n",
    "    v = mu / rho\n",
    "    Re1 = Re(v, V, D2)\n",
    "    Nu1 = Nu(Re1, Pr)\n",
    "    h1 = h(Nu1, k, D1)\n",
    "    Rk1 = Rc(r1, r2, k)\n",
    "    Rh1 = Rh(r1, h1)\n",
    "    Q = (Ti - Tl)/ (Rk1 + Rh1)\n",
    "    Ts_prev = Ts_new\n",
    "    Ts_new = Q*Rh1 + Tl\n",
    "    Q_data.append(Q)\n",
    "    T_data.append(Ts)\n",
    "print('Temperatur di permukaan pipa: ', Ts-273, 'C')\n",
    "print('Kalor yang dilepaskan per panjang: ', abs(Q), 'W/m')"
   ]
  },
  {
   "cell_type": "markdown",
   "metadata": {},
   "source": [
    "Dengan Insulasi "
   ]
  },
  {
   "cell_type": "code",
   "execution_count": null,
   "metadata": {},
   "outputs": [],
   "source": []
  },
  {
   "cell_type": "code",
   "execution_count": null,
   "metadata": {},
   "outputs": [],
   "source": []
  }
 ],
 "metadata": {
  "kernelspec": {
   "display_name": "Python 3.10.8 64-bit (microsoft store)",
   "language": "python",
   "name": "python3"
  },
  "language_info": {
   "codemirror_mode": {
    "name": "ipython",
    "version": 3
   },
   "file_extension": ".py",
   "mimetype": "text/x-python",
   "name": "python",
   "nbconvert_exporter": "python",
   "pygments_lexer": "ipython3",
   "version": "3.10.8"
  },
  "orig_nbformat": 4,
  "vscode": {
   "interpreter": {
    "hash": "f45a6f14bbe270328102beb990d025f9f3ff9d954dd0b6edd7681027fd8f60f6"
   }
  }
 },
 "nbformat": 4,
 "nbformat_minor": 2
}
